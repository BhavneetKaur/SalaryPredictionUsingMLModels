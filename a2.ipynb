{
 "cells": [
  {
   "cell_type": "code",
   "execution_count": 2,
   "metadata": {},
   "outputs": [],
   "source": [
    "import pandas as pd\n",
    "from sklearn.preprocessing import LabelEncoder\n",
    "from sklearn.model_selection import train_test_split\n",
    "from sklearn.feature_selection import SelectKBest , chi2\n",
    "from sklearn.tree import DecisionTreeClassifier\n",
    "from sklearn.ensemble import RandomForestClassifier\n",
    "from sklearn.linear_model import LogisticRegression\n",
    "from sklearn.svm import SVC\n",
    "from sklearn.metrics import  precision_score,accuracy_score\n",
    "from sklearn.preprocessing import StandardScaler, OneHotEncoder\n",
    "from sklearn.compose import ColumnTransformer, make_column_transformer\n",
    "from sklearn.pipeline import make_pipeline, Pipeline\n",
    "import matplotlib.pyplot as plt\n",
    "import random\n",
    "import collections\n"
   ]
  },
  {
   "cell_type": "code",
   "execution_count": 3,
   "metadata": {},
   "outputs": [
    {
     "name": "stdout",
     "output_type": "stream",
     "text": [
      "*** Dataset Processed for labelling***\n",
      "   age         workclass  fnlwgt  education  education-num  \\\n",
      "0   39         State-gov   77516  Bachelors             13   \n",
      "1   50  Self-emp-not-inc   83311  Bachelors             13   \n",
      "2   38           Private  215646    HS-grad              9   \n",
      "3   53           Private  234721       11th              7   \n",
      "4   28           Private  338409  Bachelors             13   \n",
      "\n",
      "       marital-status         occupation   relationship   race     sex  \\\n",
      "0       Never-married       Adm-clerical  Not-in-family  White    Male   \n",
      "1  Married-civ-spouse    Exec-managerial        Husband  White    Male   \n",
      "2            Divorced  Handlers-cleaners  Not-in-family  White    Male   \n",
      "3  Married-civ-spouse  Handlers-cleaners        Husband  Black    Male   \n",
      "4  Married-civ-spouse    Prof-speciality           Wife  Black  Female   \n",
      "\n",
      "   capital-gain  capital-loss  hours-per-week native-country salary  \n",
      "0          2174             0              40  United-States  <=50K  \n",
      "1             0             0              13  United-States  <=50K  \n",
      "2             0             0              40  United-States  <=50K  \n",
      "3             0             0              40  United-States  <=50K  \n",
      "4             0             0              40           Cuba  <=50K  \n"
     ]
    }
   ],
   "source": [
    "#Load the labelled dataset and the test dataset\n",
    "df = pd.read_csv(\"dataset1_processed.csv\", header=None)\n",
    "df_test = pd.read_csv(\"dataset1_test.csv\", header=None)\n",
    "\n",
    "names = ['age','workclass','fnlwgt','education','education-num','marital-status',\n",
    "         'occupation','relationship','race',\n",
    "         'sex','capital-gain','capital-loss','hours-per-week','native-country','salary']\n",
    "df.columns = names\n",
    "print (\"*** Dataset Processed for labelling***\")\n",
    "print (df.head())\n"
   ]
  },
  {
   "cell_type": "code",
   "execution_count": 4,
   "metadata": {},
   "outputs": [
    {
     "name": "stdout",
     "output_type": "stream",
     "text": [
      "*** Unlabelled Testing Data Set***\n",
      "   age  workclass  fnlwgt     education  education-num      marital-status  \\\n",
      "0   25    Private  226802          11th              7       Never-married   \n",
      "1   38    Private   89814       HS-grad              9  Married-civ-spouse   \n",
      "2   28  Local-gov  336951    Assoc-acdm             12  Married-civ-spouse   \n",
      "3   44    Private  160323  Some-college             10  Married-civ-spouse   \n",
      "4   34    Private  198693          10th              6       Never-married   \n",
      "\n",
      "          occupation   relationship   race   sex  capital-gain  capital-loss  \\\n",
      "0  Machine-op-inspct      Own-child  Black  Male             0             0   \n",
      "1    Farming-fishing        Husband  White  Male             0             0   \n",
      "2    Protective-serv        Husband  White  Male             0             0   \n",
      "3  Machine-op-inspct        Husband  Black  Male          7688             0   \n",
      "4      Other-service  Not-in-family  White  Male             0             0   \n",
      "\n",
      "   hours-per-week native-country  \n",
      "0              40  United-States  \n",
      "1              50  United-States  \n",
      "2              40  United-States  \n",
      "3              40  United-States  \n",
      "4              30  United-States  \n"
     ]
    }
   ],
   "source": [
    "names_test = ['age','workclass','fnlwgt','education','education-num','marital-status',\n",
    "         'occupation','relationship','race',\n",
    "         'sex','capital-gain','capital-loss','hours-per-week','native-country']\n",
    "df_test.columns = names_test\n",
    "print (\"*** Unlabelled Testing Data Set***\")\n",
    "print (df_test.head())"
   ]
  },
  {
   "cell_type": "code",
   "execution_count": 5,
   "metadata": {},
   "outputs": [
    {
     "name": "stdout",
     "output_type": "stream",
     "text": [
      "*** Dataset merged for One Hot Encoding as there might be some possibility of some extra values in test data. Hence        \\ dataset was combined for preprocessing***\n",
      "   age         workclass  fnlwgt  education  education-num  \\\n",
      "0   39         State-gov   77516  Bachelors             13   \n",
      "1   50  Self-emp-not-inc   83311  Bachelors             13   \n",
      "2   38           Private  215646    HS-grad              9   \n",
      "3   53           Private  234721       11th              7   \n",
      "4   28           Private  338409  Bachelors             13   \n",
      "\n",
      "       marital-status         occupation   relationship   race     sex  \\\n",
      "0       Never-married       Adm-clerical  Not-in-family  White    Male   \n",
      "1  Married-civ-spouse    Exec-managerial        Husband  White    Male   \n",
      "2            Divorced  Handlers-cleaners  Not-in-family  White    Male   \n",
      "3  Married-civ-spouse  Handlers-cleaners        Husband  Black    Male   \n",
      "4  Married-civ-spouse    Prof-speciality           Wife  Black  Female   \n",
      "\n",
      "   capital-gain  capital-loss  hours-per-week native-country  \n",
      "0          2174             0              40  United-States  \n",
      "1             0             0              13  United-States  \n",
      "2             0             0              40  United-States  \n",
      "3             0             0              40  United-States  \n",
      "4             0             0              40           Cuba  \n"
     ]
    }
   ],
   "source": [
    "#Setting the feature and target variables\n",
    "X = df.iloc[:,0:14]\n",
    "y = df.iloc[:,-1]\n",
    "\n",
    "#Merging the labelled and test dataset to cover for all values\n",
    "df_merge = pd.concat([X,df_test])\n",
    "print (\"*** Dataset merged for One Hot Encoding as there might be some possibility of some extra values in test data. Hence \\\n",
    "       \\ dataset was combined for preprocessing***\")\n",
    "print (df_merge.head())"
   ]
  },
  {
   "cell_type": "code",
   "execution_count": 6,
   "metadata": {},
   "outputs": [
    {
     "name": "stdout",
     "output_type": "stream",
     "text": [
      "***Categorical features to one hot encoder for binomial columns***\n",
      "  (0, 22)\t1.0\n",
      "  (0, 79)\t1.0\n",
      "  (0, 3298)\t1.0\n",
      "  (0, 26831)\t1.0\n",
      "  (0, 26850)\t1.0\n",
      "  (0, 26858)\t1.0\n",
      "  (0, 26861)\t1.0\n",
      "  (0, 26878)\t1.0\n",
      "  (0, 26887)\t1.0\n",
      "  (0, 26889)\t1.0\n",
      "  (0, 26916)\t1.0\n",
      "  (0, 27011)\t1.0\n",
      "  (0, 27147)\t1.0\n",
      "  (0, 27242)\t1.0\n",
      "  (1, 33)\t1.0\n",
      "  (1, 78)\t1.0\n",
      "  (1, 3600)\t1.0\n",
      "  (1, 26831)\t1.0\n",
      "  (1, 26850)\t1.0\n",
      "  (1, 26856)\t1.0\n",
      "  (1, 26864)\t1.0\n",
      "  (1, 26877)\t1.0\n",
      "  (1, 26887)\t1.0\n",
      "  (1, 26889)\t1.0\n",
      "  (1, 26890)\t1.0\n",
      "  :\t:\n",
      "  (30160, 26833)\t1.0\n",
      "  (30160, 26846)\t1.0\n",
      "  (30160, 26858)\t1.0\n",
      "  (30160, 26861)\t1.0\n",
      "  (30160, 26880)\t1.0\n",
      "  (30160, 26887)\t1.0\n",
      "  (30160, 26889)\t1.0\n",
      "  (30160, 26890)\t1.0\n",
      "  (30160, 27011)\t1.0\n",
      "  (30160, 27127)\t1.0\n",
      "  (30160, 27242)\t1.0\n",
      "  (30161, 35)\t1.0\n",
      "  (30161, 77)\t1.0\n",
      "  (30161, 21957)\t1.0\n",
      "  (30161, 26833)\t1.0\n",
      "  (30161, 26846)\t1.0\n",
      "  (30161, 26856)\t1.0\n",
      "  (30161, 26864)\t1.0\n",
      "  (30161, 26882)\t1.0\n",
      "  (30161, 26887)\t1.0\n",
      "  (30161, 26888)\t1.0\n",
      "  (30161, 27000)\t1.0\n",
      "  (30161, 27011)\t1.0\n",
      "  (30161, 27147)\t1.0\n",
      "  (30161, 27242)\t1.0\n"
     ]
    }
   ],
   "source": [
    "#Transformations were referred from https://medium.com/vickdata/a-simple-guide-to-scikit-learn-pipelines-4ac0d974bdcf\n",
    "#Converting the categorical features to one or more binary columns for model to process\n",
    "X_cat = list(df_merge.select_dtypes(include=['object']).columns)\n",
    "categorical_transformer = Pipeline(steps=[\n",
    "    ('onehot', OneHotEncoder())])\n",
    "df_merge_1 = categorical_transformer.fit_transform(df_merge)\n",
    "X_1 = categorical_transformer.transform(X)\n",
    "df_test_1 = categorical_transformer.transform(df_test)\n",
    "\n",
    "print (\"***Categorical features to one hot encoder for binomial columns***\")\n",
    "print (X_1)"
   ]
  },
  {
   "cell_type": "markdown",
   "metadata": {},
   "source": [
    "Question 1:\n",
    "The categorical columns were converted using One Hot Encoder because it converts the categorical column into multiple binary columns based on each class in the column. This is better than assigning numbers to the column because numbers can sometimes be misinterpreted as assigning a rank to the values with lower number having a lower rank than the other higher numbers. Hence i converted the categorical columns to multiple binary columns. \n",
    "Also, earlier, I only fitted the training dataset, but when i was trying to transform the test dataset using the fitted training dataset, it was throwing error of mismatch in the feature columns between training and test dataset. Hence, i merged the training and test dataset to fit the pipeline, and then transformed both the training and test dataset on it. This way i was able to achieve the same number of features in both the datasets."
   ]
  },
  {
   "cell_type": "code",
   "execution_count": 7,
   "metadata": {},
   "outputs": [
    {
     "name": "stdout",
     "output_type": "stream",
     "text": [
      "***Testing Data Set categorical features transformed***\n",
      "  (0, 8)\t1.0\n",
      "  (0, 76)\t1.0\n",
      "  (0, 18200)\t1.0\n",
      "  (0, 26823)\t1.0\n",
      "  (0, 26844)\t1.0\n",
      "  (0, 26858)\t1.0\n",
      "  (0, 26867)\t1.0\n",
      "  (0, 26880)\t1.0\n",
      "  (0, 26885)\t1.0\n",
      "  (0, 26889)\t1.0\n",
      "  (0, 26890)\t1.0\n",
      "  (0, 27011)\t1.0\n",
      "  (0, 27147)\t1.0\n",
      "  (0, 27242)\t1.0\n",
      "  (1, 21)\t1.0\n",
      "  (1, 76)\t1.0\n",
      "  (1, 3994)\t1.0\n",
      "  (1, 26833)\t1.0\n",
      "  (1, 26846)\t1.0\n",
      "  (1, 26856)\t1.0\n",
      "  (1, 26865)\t1.0\n",
      "  (1, 26877)\t1.0\n",
      "  (1, 26887)\t1.0\n",
      "  (1, 26889)\t1.0\n",
      "  (1, 26890)\t1.0\n",
      "  :\t:\n",
      "  (15058, 26831)\t1.0\n",
      "  (15058, 26850)\t1.0\n",
      "  (15058, 26854)\t1.0\n",
      "  (15058, 26861)\t1.0\n",
      "  (15058, 26880)\t1.0\n",
      "  (15058, 26884)\t1.0\n",
      "  (15058, 26889)\t1.0\n",
      "  (15058, 26971)\t1.0\n",
      "  (15058, 27011)\t1.0\n",
      "  (15058, 27147)\t1.0\n",
      "  (15058, 27242)\t1.0\n",
      "  (15059, 18)\t1.0\n",
      "  (15059, 77)\t1.0\n",
      "  (15059, 13238)\t1.0\n",
      "  (15059, 26831)\t1.0\n",
      "  (15059, 26850)\t1.0\n",
      "  (15059, 26856)\t1.0\n",
      "  (15059, 26864)\t1.0\n",
      "  (15059, 26877)\t1.0\n",
      "  (15059, 26887)\t1.0\n",
      "  (15059, 26889)\t1.0\n",
      "  (15059, 26890)\t1.0\n",
      "  (15059, 27011)\t1.0\n",
      "  (15059, 27167)\t1.0\n",
      "  (15059, 27242)\t1.0\n"
     ]
    }
   ],
   "source": [
    "print (\"***Testing Data Set categorical features transformed***\")\n",
    "print (df_test_1)"
   ]
  },
  {
   "cell_type": "code",
   "execution_count": 8,
   "metadata": {},
   "outputs": [
    {
     "name": "stdout",
     "output_type": "stream",
     "text": [
      "***Numerical features standardization for training set***\n",
      "  (0, 22)\t6.32806623825831\n",
      "  (0, 79)\t4.957116502134776\n",
      "  (0, 3298)\t212.65700087726626\n",
      "  (0, 26831)\t2.678599607722585\n",
      "  (0, 26850)\t2.678599607722585\n",
      "  (0, 26858)\t2.1388096157392744\n",
      "  (0, 26861)\t3.0681893324099914\n",
      "  (0, 26878)\t2.2833249055506335\n",
      "  (0, 26887)\t2.884257571546199\n",
      "  (0, 26889)\t2.135123040425787\n",
      "  (0, 26916)\t25.08156550173291\n",
      "  (0, 27011)\t4.709718507307852\n",
      "  (0, 27147)\t2.003077969143215\n",
      "  (0, 27242)\t3.549936062803053\n",
      "  (1, 33)\t7.467716471527641\n",
      "  (1, 78)\t3.627120741802755\n",
      "  (1, 3600)\t122.78029184825955\n",
      "  (1, 26831)\t2.678599607722585\n",
      "  (1, 26850)\t2.678599607722585\n",
      "  (1, 26856)\t2.0047525369668078\n",
      "  (1, 26864)\t2.967902491821477\n",
      "  (1, 26877)\t2.031153777890589\n",
      "  (1, 26887)\t2.884257571546199\n",
      "  (1, 26889)\t2.135123040425787\n",
      "  (1, 26890)\t3.608794994126416\n",
      "  :\t:\n",
      "  (30160, 26833)\t2.1318335215086797\n",
      "  (30160, 26846)\t2.1318335215086797\n",
      "  (30160, 26858)\t2.1388096157392744\n",
      "  (30160, 26861)\t3.0681893324099914\n",
      "  (30160, 26880)\t2.827827418187307\n",
      "  (30160, 26887)\t2.884257571546199\n",
      "  (30160, 26889)\t2.135123040425787\n",
      "  (30160, 26890)\t3.608794994126416\n",
      "  (30160, 27011)\t4.709718507307852\n",
      "  (30160, 27127)\t5.409731110861922\n",
      "  (30160, 27242)\t3.549936062803053\n",
      "  (30161, 35)\t8.140698627698347\n",
      "  (30161, 77)\t5.372727080709989\n",
      "  (30161, 21957)\t122.78029184825955\n",
      "  (30161, 26833)\t2.1318335215086797\n",
      "  (30161, 26846)\t2.1318335215086797\n",
      "  (30161, 26856)\t2.0047525369668078\n",
      "  (30161, 26864)\t2.967902491821477\n",
      "  (30161, 26882)\t4.761874940794198\n",
      "  (30161, 26887)\t2.884257571546199\n",
      "  (30161, 26888)\t2.135123040425488\n",
      "  (30161, 27000)\t9.58218993115648\n",
      "  (30161, 27011)\t4.709718507307852\n",
      "  (30161, 27147)\t2.003077969143215\n",
      "  (30161, 27242)\t3.549936062803053\n"
     ]
    }
   ],
   "source": [
    "#Scaling the numerical columns to bring them to a particular range for better accuracy\n",
    "numerics = ['int16', 'int32', 'int64', 'float16', 'float32', 'float64']\n",
    "X_num = list(X.select_dtypes(include=numerics).columns)\n",
    "numeric_transformer = Pipeline(steps=[\n",
    "    ('scaler', StandardScaler(with_mean=False))])\n",
    "df_merge = numeric_transformer.fit_transform(df_merge_1)\n",
    "\n",
    "print (\"***Numerical features standardization for training set***\")\n",
    "X = numeric_transformer.transform(X_1)\n",
    "print (X)\n"
   ]
  },
  {
   "cell_type": "markdown",
   "metadata": {},
   "source": [
    "The numerical features were scaled to unit variance, for there to be a uniformity in the dataset. "
   ]
  },
  {
   "cell_type": "code",
   "execution_count": 9,
   "metadata": {},
   "outputs": [
    {
     "name": "stdout",
     "output_type": "stream",
     "text": [
      "***Testing Data Set numerical features transformed***\n",
      "  (0, 8)\t6.42050194867354\n",
      "  (0, 76)\t2.2800377749221323\n",
      "  (0, 18200)\t212.65700087726626\n",
      "  (0, 26823)\t5.382303159231706\n",
      "  (0, 26844)\t5.382303159231706\n",
      "  (0, 26858)\t2.1388096157392744\n",
      "  (0, 26867)\t6.787086146115362\n",
      "  (0, 26880)\t2.827827418187307\n",
      "  (0, 26885)\t3.434963510687407\n",
      "  (0, 26889)\t2.135123040425787\n",
      "  (0, 26890)\t3.608794994126416\n",
      "  (0, 27011)\t4.709718507307852\n",
      "  (0, 27147)\t2.003077969143215\n",
      "  (0, 27242)\t3.549936062803053\n",
      "  (1, 21)\t6.214366544691014\n",
      "  (1, 76)\t2.2800377749221323\n",
      "  (1, 3994)\t212.65700087726626\n",
      "  (1, 26833)\t2.1318335215086797\n",
      "  (1, 26846)\t2.1318335215086797\n",
      "  (1, 26856)\t2.0047525369668078\n",
      "  (1, 26865)\t5.657502530314509\n",
      "  (1, 26877)\t2.031153777890589\n",
      "  (1, 26887)\t2.884257571546199\n",
      "  (1, 26889)\t2.135123040425787\n",
      "  (1, 26890)\t3.608794994126416\n",
      "  :\t:\n",
      "  (15058, 26831)\t2.678599607722585\n",
      "  (15058, 26850)\t2.678599607722585\n",
      "  (15058, 26854)\t2.8884749690516336\n",
      "  (15058, 26861)\t3.0681893324099914\n",
      "  (15058, 26880)\t2.827827418187307\n",
      "  (15058, 26884)\t5.977937034179658\n",
      "  (15058, 26889)\t2.135123040425787\n",
      "  (15058, 26971)\t50.133159999427356\n",
      "  (15058, 27011)\t4.709718507307852\n",
      "  (15058, 27147)\t2.003077969143215\n",
      "  (15058, 27242)\t3.549936062803053\n",
      "  (15059, 18)\t6.0597863989883205\n",
      "  (15059, 77)\t5.372727080709989\n",
      "  (15059, 13238)\t150.37287004053698\n",
      "  (15059, 26831)\t2.678599607722585\n",
      "  (15059, 26850)\t2.678599607722585\n",
      "  (15059, 26856)\t2.0047525369668078\n",
      "  (15059, 26864)\t2.967902491821477\n",
      "  (15059, 26877)\t2.031153777890589\n",
      "  (15059, 26887)\t2.884257571546199\n",
      "  (15059, 26889)\t2.135123040425787\n",
      "  (15059, 26890)\t3.608794994126416\n",
      "  (15059, 27011)\t4.709718507307852\n",
      "  (15059, 27167)\t4.7683899808651775\n",
      "  (15059, 27242)\t3.549936062803053\n"
     ]
    }
   ],
   "source": [
    "print (\"***Testing Data Set numerical features transformed***\")\n",
    "df_test = numeric_transformer.transform(df_test_1)\n",
    "print (df_test)"
   ]
  },
  {
   "cell_type": "code",
   "execution_count": 10,
   "metadata": {},
   "outputs": [
    {
     "name": "stdout",
     "output_type": "stream",
     "text": [
      "***Labelling the target class***\n"
     ]
    }
   ],
   "source": [
    "#Labelling the target class to binary variables\n",
    "print (\"***Labelling the target class***\")\n",
    "le = LabelEncoder()\n",
    "y = le.fit_transform(y)"
   ]
  },
  {
   "cell_type": "code",
   "execution_count": 11,
   "metadata": {},
   "outputs": [
    {
     "name": "stdout",
     "output_type": "stream",
     "text": [
      "***Split the preprocessed dataset to training and test dataset for model training and validation\n"
     ]
    }
   ],
   "source": [
    "#Question 2\n",
    "print (\"***Split the preprocessed dataset to training and test dataset for model training and validation\")\n",
    "X_train, X_test, y_train, y_test = train_test_split(X,y,test_size = 0.33, random_state=42)"
   ]
  },
  {
   "cell_type": "code",
   "execution_count": 20,
   "metadata": {},
   "outputs": [
    {
     "name": "stdout",
     "output_type": "stream",
     "text": [
      "*** Decision Tree Classifier ***\n",
      "Precision: 0.8029767288245155\n",
      "Accuracy: 0.8464938718103275\n"
     ]
    }
   ],
   "source": [
    "#Question 3 - 3 models: Decision Tree Classifier, Logistic Regression and Random Forest\n",
    "print ('*** Decision Tree Classifier ***')\n",
    "clf_tree = DecisionTreeClassifier(max_depth = 55).fit(X_train,y_train)\n",
    "tree_y_pred = clf_tree.predict(X_test)\n",
    "tree_accuracy = accuracy_score(y_test, tree_y_pred)\n",
    "tree_precision = precision_score(y_test,tree_y_pred,average=\"macro\")\n",
    "print ('Precision:', tree_precision )\n",
    "print ('Accuracy:',tree_accuracy)"
   ]
  },
  {
   "cell_type": "code",
   "execution_count": 13,
   "metadata": {},
   "outputs": [
    {
     "name": "stdout",
     "output_type": "stream",
     "text": [
      "\n",
      "*** Logistic Regression ***\n",
      "Precison: 0.7720788199165813\n",
      "Accuracy: 0.8247940526421539\n"
     ]
    }
   ],
   "source": [
    "print ('\\n*** Logistic Regression ***')\n",
    "clf_lr = LogisticRegression(multi_class = 'ovr', solver = 'liblinear').fit(X_train,y_train)\n",
    "lr_y_pred = clf_lr.predict(X_test)\n",
    "lr_accuracy = accuracy_score(y_test,lr_y_pred)\n",
    "lr_precision = precision_score(y_test,lr_y_pred,average=\"macro\")\n",
    "print ('Precison:', lr_precision)\n",
    "print ('Accuracy:',lr_accuracy)\n"
   ]
  },
  {
   "cell_type": "code",
   "execution_count": 14,
   "metadata": {},
   "outputs": [
    {
     "name": "stdout",
     "output_type": "stream",
     "text": [
      "\n",
      "*** Random Forest Classifier ***\n",
      "Precision: 0.8189605636092872\n",
      "Accuracy: 0.8493068113321278\n"
     ]
    }
   ],
   "source": [
    "print ('\\n*** Random Forest Classifier ***')\n",
    "clf_rf = RandomForestClassifier(n_estimators =95).fit(X_train, y_train)\n",
    "rf_y_pred = clf_rf.predict(X_test)\n",
    "rf_accuracy = accuracy_score(y_test, rf_y_pred)\n",
    "rf_precision = precision_score(y_test, rf_y_pred,average=\"macro\")\n",
    "print ('Precision:', rf_precision)\n",
    "print ('Accuracy:',rf_accuracy)"
   ]
  },
  {
   "cell_type": "code",
   "execution_count": 15,
   "metadata": {},
   "outputs": [
    {
     "data": {
      "image/png": "[encoded data removed]",
      "text/plain": [
       "<Figure size 432x288 with 1 Axes>"
      ]
     },
     "metadata": {
      "needs_background": "light"
     },
     "output_type": "display_data"
    }
   ],
   "source": [
    "#This was referred from https://pythonspot.com/matplotlib-bar-chart/\n",
    "import numpy as np\n",
    "n_groups = 3\n",
    "index = np.arange(n_groups)\n",
    "model_accuracy = [tree_accuracy, lr_accuracy, rf_accuracy]\n",
    "model_precision = [tree_precision, lr_precision,rf_precision]\n",
    "fig, ax = plt.subplots()\n",
    "bar_width = 0.35\n",
    "p1 = plt.bar(index,model_accuracy, bar_width, color='b',label = \"Accuracy\")\n",
    "p2 = plt.bar(index+bar_width, model_precision, bar_width, color='g', label=\"Average Class Accuracy\")\n",
    "plt.xlabel(\"Algorithms\")\n",
    "plt.ylabel(\"Accuracy of the models\")\n",
    "plt.xticks(index + bar_width, (\"Decision Tree\", \"Logistic\", \"Random Forest\"))\n",
    "plt.title(\"Accuracy of the models on Adult Census Dataset\")\n",
    "plt.legend()\n",
    "plt.show()"
   ]
  },
  {
   "cell_type": "code",
   "execution_count": 19,
   "metadata": {},
   "outputs": [
    {
     "data": {
      "image/png": "[encoded data removed]",
      "text/plain": [
       "<Figure size 432x288 with 1 Axes>"
      ]
     },
     "metadata": {
      "needs_background": "light"
     },
     "output_type": "display_data"
    }
   ],
   "source": [
    "#Question 4\n",
    "#variation of hyperparameter n_estimators to determine how it changes the average class accuracy\n",
    "table = {}\n",
    "for i in range(10):\n",
    "    temp = random.randint(50,100)\n",
    "    clf_tree_temp = DecisionTreeClassifier(max_depth = temp).fit(X_train,y_train)\n",
    "    tree_y_pred = clf_tree_temp.predict(X_test)\n",
    "    tree_precision = precision_score(y_test, tree_y_pred, average=\"macro\")\n",
    "    table[temp] = tree_precision\n",
    "\n",
    "sorted_output = collections.OrderedDict(sorted(table.items()))\n",
    "\n",
    "\n",
    "y = sorted_output.values()\n",
    "x = sorted_output.keys()\n",
    "\n",
    "plt.plot(x,y)\n",
    "plt.xlabel(\"Values of max_depth hyperparameter\")\n",
    "plt.ylabel(\"Average class accuracy of the model for different max_depth\")\n",
    "plt.title(\"Accuracy vs parameter\")\n",
    "plt.show()"
   ]
  },
  {
   "cell_type": "markdown",
   "metadata": {},
   "source": [
    "Question 5:\n",
    "Based on the above graph, and after trying different combinations of the random numbers, it could be observed that the range around 50 generally gave the best results of average class accuracy.\n",
    "But, the random forest gave the highest precision and accuracy amongst the three algorithms, and hence it was chosen to use to predict the unlabelled dataset.\n",
    "The best configuration was yielded by trying multiple combinations of the hyperparameters in random forest and comparing the average class accuracy for the same."
   ]
  },
  {
   "cell_type": "code",
   "execution_count": 21,
   "metadata": {},
   "outputs": [
    {
     "name": "stdout",
     "output_type": "stream",
     "text": [
      "***Final output of the predicted class in the unlabelled dataset***\n"
     ]
    }
   ],
   "source": [
    "#Question 6:\n",
    "#predicting the output of test dataset using random forest classifier\n",
    "test_rf_predict = clf_rf.predict(df_test)\n",
    "pred_output = []\n",
    "for i in test_rf_predict:\n",
    "    if i == 0:\n",
    "        pred_output.append(\"<=50K\")\n",
    "    else:\n",
    "        pred_output.append(\">50K\")\n",
    "print (\"***Final output of the predicted class in the unlabelled dataset***\")\n",
    "pred_df = pd.DataFrame(pred_output, columns = ['Salary'])\n",
    "pred_df.to_csv(\"B00809769_prediction.csv\", header=False, index=False)"
   ]
  },
  {
   "cell_type": "code",
   "execution_count": null,
   "metadata": {},
   "outputs": [],
   "source": []
  }
 ],
 "metadata": {
  "kernelspec": {
   "display_name": "Python 3",
   "language": "python",
   "name": "python3"
  },
  "language_info": {
   "codemirror_mode": {
    "name": "ipython",
    "version": 3
   },
   "file_extension": ".py",
   "mimetype": "text/x-python",
   "name": "python",
   "nbconvert_exporter": "python",
   "pygments_lexer": "ipython3",
   "version": "3.6.5"
  }
 },
 "nbformat": 4,
 "nbformat_minor": 2
}
